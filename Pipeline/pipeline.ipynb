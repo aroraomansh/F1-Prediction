{
 "cells": [
  {
   "cell_type": "code",
   "execution_count": 21,
   "metadata": {},
   "outputs": [],
   "source": [
    "import torch\n",
    "import torch.nn as nn\n",
    "import pandas as pd\n",
    "import torch\n",
    "import torch.nn as nn\n",
    "from sklearn.preprocessing import StandardScaler, OneHotEncoder\n",
    "import torch.nn.functional as F\n",
    "from sklearn.model_selection import train_test_split\n",
    "from torch.utils.data import DataLoader\n",
    "import torch.optim as optim\n",
    "from ANN import *"
   ]
  },
  {
   "cell_type": "code",
   "execution_count": 22,
   "metadata": {},
   "outputs": [
    {
     "name": "stdout",
     "output_type": "stream",
     "text": [
      "cuda\n"
     ]
    }
   ],
   "source": [
    "df_cleaned=pd.read_csv('Processed_DATA_PITSTRAT.csv')\n",
    "\n",
    "def preprocess(df_cleaned):\n",
    "\n",
    "    input_data = df_cleaned[['circuitId', 'raceId', 'points', 'lap','position','laps']].values\n",
    "    target_data = df_cleaned['stop'].values\n",
    "\n",
    "    scaler = StandardScaler()\n",
    "    input_data[:, 2:] = scaler.fit_transform(input_data[:, 2:])\n",
    "\n",
    "    circuit_encoded = F.one_hot(torch.tensor(input_data[:, 0],dtype=torch.long), num_classes=81)\n",
    "    race_encoded = F.one_hot(torch.tensor(input_data[:, 1],dtype=torch.long), num_classes=1133)\n",
    "    points = torch.tensor(input_data[:, 2], dtype=torch.float32).unsqueeze(1)\n",
    "    lap = torch.tensor(input_data[:, 3], dtype=torch.float32).unsqueeze(1)\n",
    "    position = torch.tensor(input_data[:, 4], dtype=torch.float32).unsqueeze(1)\n",
    "    laps = torch.tensor(input_data[:, 5], dtype=torch.float32).unsqueeze(1)\n",
    "\n",
    "\n",
    "    input_data_encoded = torch.cat([circuit_encoded, race_encoded, points, lap,position,laps], dim=1)\n",
    "    target_encoded = F.one_hot(torch.tensor(target_data,dtype=torch.long), num_classes=8)\n",
    "    return input_data_encoded,target_encoded\n",
    "\n",
    "\n",
    "input_data_encoded,target_encoded=preprocess(df_cleaned)\n",
    "X_train, X_test, y_train, y_test = train_test_split(input_data_encoded, target_encoded, test_size=0.2, random_state=42)\n",
    "train_dataset = F1Dataset(X_train, y_train)\n",
    "test_dataset = F1Dataset(X_test, y_test)\n",
    "train_loader = DataLoader(train_dataset, batch_size=32, shuffle=True)\n",
    "test_loader = DataLoader(test_dataset, batch_size=32, shuffle=False)\n",
    "best_loss = float('inf')\n",
    "circuit_id_max = 81\n",
    "race_id_max = 1133\n",
    "device = torch.device(\"cuda\" if torch.cuda.is_available() else \"cpu\")\n",
    "print(device)\n",
    "weight_decay = 1e-5\n",
    "criterion = nn.CrossEntropyLoss()\n",
    "\n"
   ]
  },
  {
   "cell_type": "code",
   "execution_count": 24,
   "metadata": {},
   "outputs": [
    {
     "name": "stderr",
     "output_type": "stream",
     "text": [
      "/tmp/ipykernel_380442/2949567155.py:2: FutureWarning: You are using `torch.load` with `weights_only=False` (the current default value), which uses the default pickle module implicitly. It is possible to construct malicious pickle data which will execute arbitrary code during unpickling (See https://github.com/pytorch/pytorch/blob/main/SECURITY.md#untrusted-models for more details). In a future release, the default value for `weights_only` will be flipped to `True`. This limits the functions that could be executed during unpickling. Arbitrary objects will no longer be allowed to be loaded via this mode unless they are explicitly allowlisted by the user via `torch.serialization.add_safe_globals`. We recommend you start setting `weights_only=True` for any use case where you don't have full control of the loaded file. Please open an issue on GitHub for any issues related to this experimental feature.\n",
      "  state_dict=(torch.load('../Pitstrat/best_model.pth'))\n"
     ]
    },
    {
     "data": {
      "text/plain": [
       "<All keys matched successfully>"
      ]
     },
     "execution_count": 24,
     "metadata": {},
     "output_type": "execute_result"
    }
   ],
   "source": [
    "Pitstrat_predictor_model= MLPModel(circuit_id_max=circuit_id_max, race_id_max=race_id_max,dropout_prob=0.2).to(device)\n",
    "state_dict=(torch.load('../Pitstrat/best_model.pth'))\n",
    "Pitstrat_predictor_model.load_state_dict(state_dict)"
   ]
  }
 ],
 "metadata": {
  "kernelspec": {
   "display_name": "katana",
   "language": "python",
   "name": "python3"
  },
  "language_info": {
   "codemirror_mode": {
    "name": "ipython",
    "version": 3
   },
   "file_extension": ".py",
   "mimetype": "text/x-python",
   "name": "python",
   "nbconvert_exporter": "python",
   "pygments_lexer": "ipython3",
   "version": "3.11.10"
  }
 },
 "nbformat": 4,
 "nbformat_minor": 2
}
