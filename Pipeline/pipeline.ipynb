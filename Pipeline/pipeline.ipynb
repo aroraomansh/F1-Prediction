{
 "cells": [
  {
   "cell_type": "code",
   "execution_count": 1,
   "metadata": {},
   "outputs": [],
   "source": [
    "import torch\n",
    "import torch.nn as nn\n",
    "import pandas as pd\n",
    "import torch\n",
    "import torch.nn as nn\n",
    "from sklearn.preprocessing import StandardScaler, OneHotEncoder\n",
    "import torch.nn.functional as F\n",
    "from sklearn.model_selection import train_test_split\n",
    "from torch.utils.data import DataLoader\n",
    "import torch.optim as optim\n",
    "from ANN import *\n",
    "from sklearn.model_selection import train_test_split\n"
   ]
  },
  {
   "cell_type": "code",
   "execution_count": 2,
   "metadata": {},
   "outputs": [
    {
     "name": "stdout",
     "output_type": "stream",
     "text": [
      "   raceId  driverId  stop  lap  resultId  constructorId  grid  position  \\\n",
      "0     841        17     1   11     20783              9     3       5.0   \n",
      "1     841         4     1   12     20782              6     5       4.0   \n",
      "2     841        20     1   14     20779              9     1       1.0   \n",
      "3     841         1     1   16     20780              1     2       2.0   \n",
      "4     841       808     1   16     20781              4     6       3.0   \n",
      "\n",
      "   points  laps  rank  statusId  wins  year  circuitId  \n",
      "0    10.0    58     3         1     1  2011          1  \n",
      "1    12.0    58     2         1     0  2011          1  \n",
      "2    25.0    58     4         1     1  2011          1  \n",
      "3    18.0    58     8         1     0  2011          1  \n",
      "4    15.0    58     7         1     0  2011          1  \n"
     ]
    }
   ],
   "source": [
    "df_cleaned=pd.read_csv('Processed_DATA_PITSTRAT.csv')\n",
    "print(df_cleaned.head())"
   ]
  },
  {
   "cell_type": "code",
   "execution_count": 3,
   "metadata": {},
   "outputs": [],
   "source": [
    "\n",
    "def preprocess(df_cleaned):\n",
    "\n",
    "    input_data = df_cleaned[['circuitId', 'raceId', 'points', 'lap','position','laps']].values\n",
    "    target_data = df_cleaned['stop'].values\n",
    "\n",
    "    scaler = StandardScaler()\n",
    "    input_data[:, 2:] = scaler.fit_transform(input_data[:, 2:])\n",
    "\n",
    "    circuit_encoded = F.one_hot(torch.tensor(input_data[:, 0],dtype=torch.long), num_classes=81)\n",
    "    race_encoded = F.one_hot(torch.tensor(input_data[:, 1],dtype=torch.long), num_classes=1133)\n",
    "    points = torch.tensor(input_data[:, 2], dtype=torch.float32).unsqueeze(1)\n",
    "    lap = torch.tensor(input_data[:, 3], dtype=torch.float32).unsqueeze(1)\n",
    "    position = torch.tensor(input_data[:, 4], dtype=torch.float32).unsqueeze(1)\n",
    "    laps = torch.tensor(input_data[:, 5], dtype=torch.float32).unsqueeze(1)\n",
    "\n",
    "\n",
    "    input_data_encoded = torch.cat([circuit_encoded, race_encoded, points, lap,position,laps], dim=1)\n",
    "    target_encoded = F.one_hot(torch.tensor(target_data,dtype=torch.long), num_classes=8)\n",
    "    return input_data_encoded,target_encoded\n",
    "\n",
    "\n",
    "\n",
    "\n"
   ]
  },
  {
   "cell_type": "code",
   "execution_count": 4,
   "metadata": {},
   "outputs": [
    {
     "ename": "NameError",
     "evalue": "name 'Pitstrat_predictor_model' is not defined",
     "output_type": "error",
     "traceback": [
      "\u001b[0;31m---------------------------------------------------------------------------\u001b[0m",
      "\u001b[0;31mNameError\u001b[0m                                 Traceback (most recent call last)",
      "Cell \u001b[0;32mIn[4], line 31\u001b[0m\n\u001b[1;32m     28\u001b[0m circuit_onehot\u001b[38;5;241m=\u001b[39mcircuit_onehot\n\u001b[1;32m     29\u001b[0m points_wins\u001b[38;5;241m=\u001b[39mpoints_wins\n\u001b[0;32m---> 31\u001b[0m outputs \u001b[38;5;241m=\u001b[39m \u001b[43mPitstrat_predictor_model\u001b[49m(circuit_onehot, race_onehot, points_wins)\n\u001b[1;32m     32\u001b[0m softmax\u001b[38;5;241m=\u001b[39mnn\u001b[38;5;241m.\u001b[39mSoftmax(dim\u001b[38;5;241m=\u001b[39m\u001b[38;5;241m1\u001b[39m)\n\u001b[1;32m     33\u001b[0m probabilities\u001b[38;5;241m=\u001b[39msoftmax(outputs)\n",
      "\u001b[0;31mNameError\u001b[0m: name 'Pitstrat_predictor_model' is not defined"
     ]
    }
   ],
   "source": [
    "data = {\n",
    "    'raceId': [1001],\n",
    "    'driverId': [21],  # Not used in preprocessing\n",
    "    'stop': [1],  # Target variable\n",
    "    'lap': [15],\n",
    "    'resultId': [10001],  # Not used\n",
    "    'constructorId': [2],  # Not used\n",
    "    'grid': [5],  # Not used\n",
    "    'position': [1],\n",
    "    'points': [25.0],\n",
    "    'laps': [70],\n",
    "    'rank': [1],  # Not used\n",
    "    'statusId': [1],  # Not used\n",
    "    'wins': [1],  # Not used\n",
    "    'year': [20],  # Not used\n",
    "    'circuitId': [1]\n",
    "}\n",
    "df_sample = pd.DataFrame(data)\n",
    "input_data_encoded,_=preprocess(df_sample)\n",
    "\n",
    "device='cpu'\n",
    "race_id_max=1133\n",
    "circuit_id_max=81\n",
    "circuit_onehot = input_data_encoded[:, :circuit_id_max]\n",
    "race_onehot = input_data_encoded[:, circuit_id_max:circuit_id_max + race_id_max]\n",
    "points_wins = input_data_encoded[:, circuit_id_max + race_id_max:]\n",
    "race_onehot=race_onehot\n",
    "circuit_onehot=circuit_onehot\n",
    "points_wins=points_wins\n",
    "\n",
    "outputs = Pitstrat_predictor_model(circuit_onehot, race_onehot, points_wins)\n",
    "softmax=nn.Softmax(dim=1)\n",
    "probabilities=softmax(outputs)\n",
    "max_prob_index = torch.argmax(probabilities, dim=1).item()+1\n",
    "print(max_prob_index)\n",
    "\n",
    "\n"
   ]
  },
  {
   "cell_type": "code",
   "execution_count": null,
   "metadata": {},
   "outputs": [
    {
     "name": "stderr",
     "output_type": "stream",
     "text": [
      "/tmp/ipykernel_418456/2795656738.py:2: FutureWarning: You are using `torch.load` with `weights_only=False` (the current default value), which uses the default pickle module implicitly. It is possible to construct malicious pickle data which will execute arbitrary code during unpickling (See https://github.com/pytorch/pytorch/blob/main/SECURITY.md#untrusted-models for more details). In a future release, the default value for `weights_only` will be flipped to `True`. This limits the functions that could be executed during unpickling. Arbitrary objects will no longer be allowed to be loaded via this mode unless they are explicitly allowlisted by the user via `torch.serialization.add_safe_globals`. We recommend you start setting `weights_only=True` for any use case where you don't have full control of the loaded file. Please open an issue on GitHub for any issues related to this experimental feature.\n",
      "  state_dict=(torch.load('../Pitstrat/best_model.pth',map_location=torch.device('cpu')))\n"
     ]
    },
    {
     "data": {
      "text/plain": [
       "MLPModel(\n",
       "  (fc1): Linear(in_features=1218, out_features=256, bias=True)\n",
       "  (fc2): Linear(in_features=256, out_features=128, bias=True)\n",
       "  (fc3): Linear(in_features=128, out_features=64, bias=True)\n",
       "  (fc4): Linear(in_features=64, out_features=32, bias=True)\n",
       "  (fc5): Linear(in_features=32, out_features=16, bias=True)\n",
       "  (fc6): Linear(in_features=16, out_features=8, bias=True)\n",
       "  (elu): ELU(alpha=1.0)\n",
       "  (bn1): BatchNorm1d(256, eps=1e-05, momentum=0.1, affine=True, track_running_stats=True)\n",
       "  (bn2): BatchNorm1d(128, eps=1e-05, momentum=0.1, affine=True, track_running_stats=True)\n",
       "  (bn3): BatchNorm1d(64, eps=1e-05, momentum=0.1, affine=True, track_running_stats=True)\n",
       "  (bn4): BatchNorm1d(32, eps=1e-05, momentum=0.1, affine=True, track_running_stats=True)\n",
       "  (bn5): BatchNorm1d(16, eps=1e-05, momentum=0.1, affine=True, track_running_stats=True)\n",
       "  (bn6): BatchNorm1d(8, eps=1e-05, momentum=0.1, affine=True, track_running_stats=True)\n",
       "  (dropout): Dropout(p=0.2, inplace=False)\n",
       ")"
      ]
     },
     "execution_count": 94,
     "metadata": {},
     "output_type": "execute_result"
    }
   ],
   "source": [
    "Pitstrat_predictor_model= MLPModel(circuit_id_max=81, race_id_max=1133,dropout_prob=0.2).to(device)\n",
    "state_dict=(torch.load('../Pitstrat/best_model.pth',map_location=torch.device('cpu')))\n",
    "Pitstrat_predictor_model.load_state_dict(state_dict)\n",
    "Pitstrat_predictor_model.eval( )\n",
    "\n"
   ]
  },
  {
   "cell_type": "code",
   "execution_count": null,
   "metadata": {},
   "outputs": [],
   "source": [
    "import joblib\n",
    "lr = joblib.load('../lr_model.pkl')"
   ]
  },
  {
   "cell_type": "code",
   "execution_count": null,
   "metadata": {},
   "outputs": [],
   "source": [
    "def align_features(X_train, new_input):\n",
    "        \"\"\"\n",
    "        Align new input features with the training feature space.\n",
    "        Missing columns will be filled with 0.\n",
    "        \"\"\"\n",
    "        # Identify missing columns between the training and new input\n",
    "        missing_cols = list(set(X_train.columns) - set(new_input.columns))\n",
    "        \n",
    "        # Add missing columns (initialized with 0)\n",
    "        missing_df = pd.DataFrame(0, index=new_input.index, columns=missing_cols)\n",
    "\n",
    "        # Combine the original input with the missing columns\n",
    "        aligned_input = pd.concat([new_input, missing_df], axis=1)\n",
    "\n",
    "        # Ensure the order of columns matches the training data\n",
    "        aligned_input = aligned_input[X_train.columns]\n",
    "\n",
    "        return aligned_input "
   ]
  },
  {
   "cell_type": "code",
   "execution_count": null,
   "metadata": {},
   "outputs": [],
   "source": [
    "df_lr=pd.read_csv('../data_v1/df_training.csv')"
   ]
  },
  {
   "cell_type": "code",
   "execution_count": null,
   "metadata": {},
   "outputs": [],
   "source": [
    "X = df_lr.drop(['positionOrder'], axis=1)\n",
    "Y = df_lr['positionOrder']"
   ]
  },
  {
   "cell_type": "code",
   "execution_count": null,
   "metadata": {},
   "outputs": [],
   "source": [
    "X_train_lr, X_test_lr, Y_train_lr, Y_test_lr = train_test_split(X, Y, test_size=0.2, random_state=42)"
   ]
  },
  {
   "cell_type": "code",
   "execution_count": null,
   "metadata": {},
   "outputs": [
    {
     "name": "stdout",
     "output_type": "stream",
     "text": [
      "[0 0 0 0 0 0 0 0 0 0 0 0 0 0 0 0 0 0 0 0 0 0]\n",
      "The predicted winner is Driver ID: 8\n"
     ]
    }
   ],
   "source": [
    "new_race = {\n",
    "    'grid': [4, 2,1,6,5,7,11,8,13,10,12,18,3,16,15,21,22,17,20,14,9,19],\n",
    "    'laps': [57] * 22,  # Same laps for all drivers\n",
    "    'circuitId_3': [1] * 22 , # Circuit ID 3 for all drivers\n",
    "    'numStops':[10]*22\n",
    "}\n",
    "# One-hot encode driver and constructor IDs\n",
    "drivers = [8,13,9,2,5,15,17,3,10,4,22,21,1,6,7,19,11,14,16,12,18,20]\n",
    "constructors = [6,6,2,2,1,7,9,3,7,4,11,10,1,3,5,8,8,9,10,4,11,5]\n",
    "\n",
    "# Add one-hot encoded driver and constructor columns\n",
    "for driver in drivers:\n",
    "    new_race[f'driverId_{driver}'] = [1 if i == drivers.index(driver) else 0 for i in range(22)]\n",
    "\n",
    "for constructor in constructors:\n",
    "    new_race[f'constructorId_{constructor}'] = [1 if i == constructors.index(constructor) else 0 for i in range(22)]\n",
    "\n",
    "\n",
    "new_race_df = pd.DataFrame(new_race)\n",
    "new_race_df['numStops']=20\n",
    "\n",
    "\n",
    "aligned_input = align_features(X_train_lr, new_race_df)\n",
    "\n",
    "predictions = lr.predict(aligned_input)\n",
    "import numpy as np\n",
    "rounded_predictions = np.round(predictions, 2)\n",
    "print(rounded_predictions)\n",
    "winner_index = predictions.argmax()  \n",
    "winning_driver = drivers[winner_index]\n",
    "\n",
    "print(f\"The predicted winner is Driver ID: {winning_driver}\")"
   ]
  },
  {
   "cell_type": "code",
   "execution_count": null,
   "metadata": {},
   "outputs": [],
   "source": [
    "# circuit_onehot = input_data_encoded[:, :circuit_id_max]\n",
    "# race_onehot = input_data_encoded[:, circuit_id_max:circuit_id_max + race_id_max]\n",
    "# points_wins = input_data_encoded[:, circuit_id_max + race_id_max:]\n",
    "# race_onehot=race_onehot.to(device='cuda')\n",
    "# circuit_onehot=circuit_onehot.to(device='cuda')\n",
    "# points_wins=points_wins.to(device='cuda')\n",
    "\n",
    "# outputs = Pitstrat_predictor_model(circuit_onehot, race_onehot, points_wins)\n",
    "# softmax=nn.Softmax(dim=1)\n",
    "# probabilities=softmax(outputs)\n",
    "# max_prob_index = torch.argmax(probabilities, dim=1).item()+1\n",
    "# print(max_prob_index)\n",
    "\n",
    "\n",
    "\n",
    "class Winner_predictor_withgivenStrats():\n",
    "    \n",
    "    def __init__(self,pitstrat_model,winner_predictor,data_strat,data_winner):\n",
    "        self.pitstrat_model=pitstrat_model\n",
    "        self.winner_predicto=winner_predictor\n",
    "        self.circuit_id_max = 81\n",
    "        self.race_id_max = 1133\n",
    "        self.data1=data_strat\n",
    "        self.data2=data_winner\n",
    "        \n",
    "    def preprocess(self):\n",
    "        df_cleaned=self.data1\n",
    "        input_data = df_cleaned[['circuitId', 'raceId', 'points', 'lap','position','laps']].values\n",
    "\n",
    "        scaler = StandardScaler()\n",
    "        input_data[:, 2:] = scaler.fit_transform(input_data[:, 2:])\n",
    "\n",
    "        circuit_encoded = F.one_hot(torch.tensor(input_data[:, 0],dtype=torch.long), num_classes=81)\n",
    "        race_encoded = F.one_hot(torch.tensor(input_data[:, 1],dtype=torch.long), num_classes=1133)\n",
    "        points = torch.tensor(input_data[:, 2], dtype=torch.float32).unsqueeze(1)\n",
    "        lap = torch.tensor(input_data[:, 3], dtype=torch.float32).unsqueeze(1)\n",
    "        position = torch.tensor(input_data[:, 4], dtype=torch.float32).unsqueeze(1)\n",
    "        laps = torch.tensor(input_data[:, 5], dtype=torch.float32).unsqueeze(1)\n",
    "\n",
    "\n",
    "        input_data_encoded = torch.cat([circuit_encoded, race_encoded, points, lap,position,laps], dim=1)\n",
    "        return input_data_encoded\n",
    "    \n",
    "    \n",
    "    def predict_pitstop(self):\n",
    "        df_cleaned=self.data1\n",
    "        print(self.circuit_id_max,self.race_id_max)\n",
    "        input_data_encoded=self.preprocess()\n",
    "        \n",
    "        circuit_onehot = input_data_encoded[:, :self.circuit_id_max]\n",
    "        race_onehot = input_data_encoded[:, self.circuit_id_max:self.circuit_id_max + self.race_id_max]\n",
    "        points_wins = input_data_encoded[:, self.circuit_id_max + self.race_id_max:]\n",
    "        race_onehot=race_onehot\n",
    "        circuit_onehot=circuit_onehot\n",
    "        points_wins=points_wins\n",
    "\n",
    "        outputs = Pitstrat_predictor_model(circuit_onehot, race_onehot, points_wins)\n",
    "        softmax=nn.Softmax(dim=1)\n",
    "        probabilities=softmax(outputs)\n",
    "        return torch.argmax(probabilities, dim=1).item()+1\n",
    "    \n",
    "    def align_features(X_train, new_input):\n",
    "        \"\"\"\n",
    "        Align new input features with the training feature space.\n",
    "        Missing columns will be filled with 0.\n",
    "        \"\"\"\n",
    "        missing_cols = list(set(X_train.columns) - set(new_input.columns))\n",
    "        \n",
    "        missing_df = pd.DataFrame(0, index=new_input.index, columns=missing_cols)\n",
    "\n",
    "        aligned_input = pd.concat([new_input, missing_df], axis=1)\n",
    "\n",
    "        aligned_input = aligned_input[X_train.columns]\n",
    "\n",
    "        return aligned_input    \n",
    "    \n",
    "    def predict_winner(self,predicted_optimal_stop):\n",
    "        df_lr=pd.read_csv('../data_v1/df_training.csv')\n",
    "        X = df_lr.drop(['positionOrder'], axis=1)\n",
    "        Y = df_lr['positionOrder']\n",
    "        \n",
    "        X_train_lr, X_test_lr, Y_train_lr, Y_test_lr = train_test_split(X, Y, test_size=0.2, random_state=42)\n",
    "        for driver in drivers:\n",
    "            self.data2[f'driverId_{driver}'] = [1 if i == drivers.index(driver) else 0 for i in range(22)]\n",
    "\n",
    "        for constructor in constructors:\n",
    "            self.data2[f'constructorId_{constructor}'] = [1 if i == constructors.index(constructor) else 0 for i in range(22)]\n",
    "\n",
    "        aligned_input = align_features(X_train_lr, new_race_df)\n",
    "\n",
    "        self.data2_df = pd.DataFrame(self.data2)\n",
    "        self.data2_df['numStops']=predicted_optimal_stop\n",
    "        predictions = self.winner_predicto.predict(aligned_input)\n",
    "        winner_index = predictions.argmax()  \n",
    "        winning_driver = drivers[winner_index]\n",
    "\n",
    "        print(f\"The predicted winner is Driver ID: {winning_driver}\")\n",
    "    \n",
    "    def forward_pass(self):\n",
    "        optimal_pitstop=self.predict_pitstop()\n",
    "        print(f\"The optimal number of pitstop is: {winning_driver}\")\n",
    "        self.predict_winner(optimal_pitstop)\n",
    "        \n",
    "    \n",
    "    \n",
    "    "
   ]
  },
  {
   "cell_type": "code",
   "execution_count": null,
   "metadata": {},
   "outputs": [],
   "source": [
    "new_race = {\n",
    "    'grid': [4, 2,1,6,5,7,11,8,13,10,12,18,3,16,15,21,22,17,20,14,9,19],\n",
    "    'laps': [57] * 22,  # Same laps for all drivers\n",
    "    'circuitId_3': [1] * 22 , # Circuit ID 3 for all drivers\n",
    "    'numStops':[10]*22\n",
    "}\n",
    "# One-hot encode driver and constructor IDs\n",
    "drivers = [8,13,9,2,5,15,17,3,10,4,22,21,1,6,7,19,11,14,16,12,18,20]\n",
    "constructors = [6,6,2,2,1,7,9,3,7,4,11,10,1,3,5,8,8,9,10,4,11,5]\n",
    "\n",
    "# Add one-hot encoded driver and constructor columns\n",
    "for driver in drivers:\n",
    "    new_race[f'driverId_{driver}'] = [1 if i == drivers.index(driver) else 0 for i in range(22)]\n",
    "\n",
    "for constructor in constructors:\n",
    "    new_race[f'constructorId_{constructor}'] = [1 if i == constructors.index(constructor) else 0 for i in range(22)]\n",
    "\n",
    "\n",
    "new_race_df = pd.DataFrame(new_race)\n",
    "\n",
    "\n",
    "data = {\n",
    "    'raceId': [1001],\n",
    "    'driverId': [21],  # Not used in preprocessing\n",
    "    'stop': [1],  # Target variable\n",
    "    'lap': [15],\n",
    "    'resultId': [10001],  # Not used\n",
    "    'constructorId': [2],  # Not used\n",
    "    'grid': [5],  # Not used\n",
    "    'position': [3],\n",
    "    'points': [25.0],\n",
    "    'laps': [30],\n",
    "    'rank': [1],  # Not used\n",
    "    'statusId': [1],  # Not used\n",
    "    'wins': [1],  # Not used\n",
    "    'year': [20],  # Not used\n",
    "    'circuitId': [1]\n",
    "}\n",
    "df_sample = pd.DataFrame(data)\n",
    "input_data_encoded,_=preprocess(df_sample)"
   ]
  },
  {
   "cell_type": "code",
   "execution_count": null,
   "metadata": {},
   "outputs": [
    {
     "name": "stdout",
     "output_type": "stream",
     "text": [
      "81 1133\n",
      "The optimal number of pitstop is: 8\n",
      "The predicted winner is Driver ID: 8\n"
     ]
    }
   ],
   "source": [
    "Final_Pipe=Winner_predictor_withgivenStrats(Pitstrat_predictor_model,lr,df_sample,new_race_df)\n",
    "Final_Pipe.forward_pass()"
   ]
  }
 ],
 "metadata": {
  "kernelspec": {
   "display_name": "Python 3",
   "language": "python",
   "name": "python3"
  },
  "language_info": {
   "codemirror_mode": {
    "name": "ipython",
    "version": 3
   },
   "file_extension": ".py",
   "mimetype": "text/x-python",
   "name": "python",
   "nbconvert_exporter": "python",
   "pygments_lexer": "ipython3",
   "version": "3.12.5"
  }
 },
 "nbformat": 4,
 "nbformat_minor": 2
}
