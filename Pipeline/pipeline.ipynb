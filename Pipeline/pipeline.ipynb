{
 "cells": [
  {
   "cell_type": "code",
   "execution_count": 143,
   "metadata": {},
   "outputs": [],
   "source": [
    "import torch\n",
    "import torch.nn as nn\n",
    "import pandas as pd\n",
    "import torch\n",
    "import torch.nn as nn\n",
    "from sklearn.preprocessing import StandardScaler, OneHotEncoder\n",
    "import torch.nn.functional as F\n",
    "from sklearn.model_selection import train_test_split\n",
    "from torch.utils.data import DataLoader\n",
    "import torch.optim as optim\n",
    "from ANN import *\n",
    "from sklearn.model_selection import train_test_split\n"
   ]
  },
  {
   "cell_type": "code",
   "execution_count": 144,
   "metadata": {},
   "outputs": [],
   "source": [
    "df_cleaned=pd.read_csv('Processed_DATA_PITSTRAT.csv')\n",
    "df_lr=pd.read_csv('../data_v1/df_training.csv')"
   ]
  },
  {
   "cell_type": "code",
   "execution_count": 145,
   "metadata": {},
   "outputs": [
    {
     "name": "stderr",
     "output_type": "stream",
     "text": [
      "/tmp/ipykernel_421885/2751510590.py:2: FutureWarning: You are using `torch.load` with `weights_only=False` (the current default value), which uses the default pickle module implicitly. It is possible to construct malicious pickle data which will execute arbitrary code during unpickling (See https://github.com/pytorch/pytorch/blob/main/SECURITY.md#untrusted-models for more details). In a future release, the default value for `weights_only` will be flipped to `True`. This limits the functions that could be executed during unpickling. Arbitrary objects will no longer be allowed to be loaded via this mode unless they are explicitly allowlisted by the user via `torch.serialization.add_safe_globals`. We recommend you start setting `weights_only=True` for any use case where you don't have full control of the loaded file. Please open an issue on GitHub for any issues related to this experimental feature.\n",
      "  state_dict=(torch.load('../Pitstrat/best_model.pth',map_location=torch.device('cpu')))\n"
     ]
    },
    {
     "data": {
      "text/plain": [
       "MLPModel(\n",
       "  (fc1): Linear(in_features=1218, out_features=256, bias=True)\n",
       "  (fc2): Linear(in_features=256, out_features=128, bias=True)\n",
       "  (fc3): Linear(in_features=128, out_features=64, bias=True)\n",
       "  (fc4): Linear(in_features=64, out_features=32, bias=True)\n",
       "  (fc5): Linear(in_features=32, out_features=16, bias=True)\n",
       "  (fc6): Linear(in_features=16, out_features=8, bias=True)\n",
       "  (elu): ELU(alpha=1.0)\n",
       "  (bn1): BatchNorm1d(256, eps=1e-05, momentum=0.1, affine=True, track_running_stats=True)\n",
       "  (bn2): BatchNorm1d(128, eps=1e-05, momentum=0.1, affine=True, track_running_stats=True)\n",
       "  (bn3): BatchNorm1d(64, eps=1e-05, momentum=0.1, affine=True, track_running_stats=True)\n",
       "  (bn4): BatchNorm1d(32, eps=1e-05, momentum=0.1, affine=True, track_running_stats=True)\n",
       "  (bn5): BatchNorm1d(16, eps=1e-05, momentum=0.1, affine=True, track_running_stats=True)\n",
       "  (bn6): BatchNorm1d(8, eps=1e-05, momentum=0.1, affine=True, track_running_stats=True)\n",
       "  (dropout): Dropout(p=0.2, inplace=False)\n",
       ")"
      ]
     },
     "execution_count": 145,
     "metadata": {},
     "output_type": "execute_result"
    }
   ],
   "source": [
    "Pitstrat_predictor_model= MLPModel(circuit_id_max=81, race_id_max=1133,dropout_prob=0.2)\n",
    "state_dict=(torch.load('../Pitstrat/best_model.pth',map_location=torch.device('cpu')))\n",
    "Pitstrat_predictor_model.load_state_dict(state_dict)\n",
    "Pitstrat_predictor_model.eval( )\n",
    "\n"
   ]
  },
  {
   "cell_type": "code",
   "execution_count": 146,
   "metadata": {},
   "outputs": [],
   "source": [
    "import joblib\n",
    "lr = joblib.load('../lr_model.pkl')"
   ]
  },
  {
   "cell_type": "code",
   "execution_count": 147,
   "metadata": {},
   "outputs": [],
   "source": [
    "X = df_lr.drop(['positionOrder'], axis=1)\n",
    "Y = df_lr['positionOrder']"
   ]
  },
  {
   "cell_type": "code",
   "execution_count": 148,
   "metadata": {},
   "outputs": [],
   "source": [
    "\n",
    "\n",
    "\n",
    "class Winner_predictor_withgivenStrats():\n",
    "    \n",
    "    def __init__(self,pitstrat_model,winner_predictor,data_strat,data_winner,drivers,constructors):\n",
    "        self.pitstrat_model=pitstrat_model\n",
    "        self.winner_predicto=winner_predictor\n",
    "        self.circuit_id_max = 81\n",
    "        self.race_id_max = 1133\n",
    "        self.data1=data_strat\n",
    "        self.data2=data_winner\n",
    "        self.drivers=drivers\n",
    "        self.constructors=constructors\n",
    "        \n",
    "    def preprocess(self):\n",
    "        df_cleaned=self.data1\n",
    "        input_data = df_cleaned[['circuitId', 'raceId', 'points', 'lap','position','laps']].values\n",
    "\n",
    "        scaler = StandardScaler()\n",
    "        input_data[:, 2:] = scaler.fit_transform(input_data[:, 2:])\n",
    "\n",
    "        circuit_encoded = F.one_hot(torch.tensor(input_data[:, 0],dtype=torch.long), num_classes=81)\n",
    "        race_encoded = F.one_hot(torch.tensor(input_data[:, 1],dtype=torch.long), num_classes=1133)\n",
    "        points = torch.tensor(input_data[:, 2], dtype=torch.float32).unsqueeze(1)\n",
    "        lap = torch.tensor(input_data[:, 3], dtype=torch.float32).unsqueeze(1)\n",
    "        position = torch.tensor(input_data[:, 4], dtype=torch.float32).unsqueeze(1)\n",
    "        laps = torch.tensor(input_data[:, 5], dtype=torch.float32).unsqueeze(1)\n",
    "\n",
    "\n",
    "        input_data_encoded = torch.cat([circuit_encoded, race_encoded, points, lap,position,laps], dim=1)\n",
    "        return input_data_encoded\n",
    "    \n",
    "    \n",
    "    def predict_pitstop(self):\n",
    "        df_cleaned=self.data1\n",
    "        input_data_encoded=self.preprocess()\n",
    "        \n",
    "        circuit_onehot = input_data_encoded[:, :self.circuit_id_max]\n",
    "        race_onehot = input_data_encoded[:, self.circuit_id_max:self.circuit_id_max + self.race_id_max]\n",
    "        points_wins = input_data_encoded[:, self.circuit_id_max + self.race_id_max:]\n",
    "        race_onehot=race_onehot\n",
    "        circuit_onehot=circuit_onehot\n",
    "        points_wins=points_wins\n",
    "\n",
    "        outputs = Pitstrat_predictor_model(circuit_onehot, race_onehot, points_wins)\n",
    "        softmax=nn.Softmax(dim=1)\n",
    "        probabilities=softmax(outputs)\n",
    "        opt= torch.argmax(probabilities, dim=1).item()+1\n",
    "        return opt\n",
    "    \n",
    "    def align_features(self,X_train, new_input):\n",
    "        \"\"\"\n",
    "        Align new input features with the training feature space.\n",
    "        Missing columns will be filled with 0.\n",
    "        \"\"\"\n",
    "        missing_cols = list(set(X_train.columns) - set(new_input.columns))\n",
    "        \n",
    "        missing_df = pd.DataFrame(0, index=new_input.index, columns=missing_cols)\n",
    "\n",
    "        aligned_input = pd.concat([new_input, missing_df], axis=1)\n",
    "\n",
    "        aligned_input = aligned_input[X_train.columns]\n",
    "\n",
    "        return aligned_input    \n",
    "    \n",
    "    def predict_winner(self,predicted_optimal_stop):\n",
    "        df_lr=pd.read_csv('../data_v1/df_training.csv')\n",
    "        X = df_lr.drop(['positionOrder'], axis=1)\n",
    "        Y = df_lr['positionOrder']\n",
    "        \n",
    "        X_train_lr, X_test_lr, Y_train_lr, Y_test_lr = train_test_split(X, Y, test_size=0.2, random_state=42)\n",
    "        for driver in self.drivers:\n",
    "            self.data2[f'driverId_{driver}'] = [1 if i == self.drivers.index(driver) else 0 for i in range(22)]\n",
    "\n",
    "        for constructor in self.constructors :\n",
    "            self.data2[f'constructorId_{constructor}'] = [1 if i == self.constructors.index(constructor) else 0 for i in range(22)]\n",
    "\n",
    "        aligned_input = self.align_features(X_train_lr, self.data2)\n",
    "\n",
    "        self.data2_df = pd.DataFrame(self.data2)\n",
    "        self.data2_df['numStops']=predicted_optimal_stop\n",
    "        predictions = self.winner_predicto.predict(aligned_input)\n",
    "        winner_index = predictions.argmax()  \n",
    "        winning_driver = self.drivers[winner_index]\n",
    "\n",
    "        print(f\"The predicted winner is Driver ID: {winning_driver}\")\n",
    "    \n",
    "    def forward_pass(self):\n",
    "        optimal_pitstop=self.predict_pitstop()\n",
    "        print(f\"The optimal number of pitstop is: {optimal_pitstop}\")\n",
    "        self.predict_winner(optimal_pitstop)\n",
    "        \n",
    "    \n",
    "    \n",
    "    "
   ]
  },
  {
   "cell_type": "code",
   "execution_count": 149,
   "metadata": {},
   "outputs": [],
   "source": [
    "new_race = {\n",
    "    'grid': [4, 2,1,6,5,7,11,8,13,10,12,18,3,16,15,21,22,17,20,14,9,19],\n",
    "    'laps': [57] * 22,  # Same laps for all drivers\n",
    "    'circuitId_3': [1] * 22 , # Circuit ID 3 for all drivers\n",
    "    'numStops':[10]*22\n",
    "}\n",
    "# One-hot encode driver and constructor IDs\n",
    "drivers = [8,13,9,2,5,15,17,3,10,4,22,21,1,6,7,19,11,14,16,12,18,20]\n",
    "constructors = [6,6,2,2,1,7,9,3,7,4,11,10,1,3,5,8,8,9,10,4,11,5]\n",
    "\n",
    "# Add one-hot encoded driver and constructor columns\n",
    "# for driver in drivers:\n",
    "#     new_race[f'driverId_{driver}'] = [1 if i == drivers.index(driver) else 0 for i in range(22)]\n",
    "\n",
    "# for constructor in constructors:\n",
    "#     new_race[f'constructorId_{constructor}'] = [1 if i == constructors.index(constructor) else 0 for i in range(22)]\n",
    "\n",
    "\n",
    "new_race_df = pd.DataFrame(new_race)\n",
    "\n",
    "\n",
    "data = {\n",
    "    'raceId': [30],\n",
    "    'driverId': [21],  # Not used in preprocessing\n",
    "    'stop': [2],  # Target variable\n",
    "    'lap': [70],\n",
    "    'resultId': [10001],  # Not used\n",
    "    'constructorId': [2],  # Not used\n",
    "    'grid': [5],  # Not used\n",
    "    'position': [1],\n",
    "    'points': [25.0],\n",
    "    'laps': [30],\n",
    "    'rank': [1],  # Not used\n",
    "    'statusId': [1],  # Not used\n",
    "    'wins': [1],  # Not used\n",
    "    'year': [20],  # Not used\n",
    "    'circuitId': [1]\n",
    "}\n",
    "df_sample = pd.DataFrame(data)\n"
   ]
  },
  {
   "cell_type": "code",
   "execution_count": 150,
   "metadata": {},
   "outputs": [
    {
     "name": "stdout",
     "output_type": "stream",
     "text": [
      "The optimal number of pitstop is: 3\n",
      "The predicted winner is Driver ID: 8\n"
     ]
    }
   ],
   "source": [
    "Final_Pipe=Winner_predictor_withgivenStrats(Pitstrat_predictor_model,lr,df_sample,new_race_df,drivers,constructors)\n",
    "Final_Pipe.forward_pass()"
   ]
  }
 ],
 "metadata": {
  "kernelspec": {
   "display_name": "Python 3",
   "language": "python",
   "name": "python3"
  },
  "language_info": {
   "codemirror_mode": {
    "name": "ipython",
    "version": 3
   },
   "file_extension": ".py",
   "mimetype": "text/x-python",
   "name": "python",
   "nbconvert_exporter": "python",
   "pygments_lexer": "ipython3",
   "version": "3.12.5"
  }
 },
 "nbformat": 4,
 "nbformat_minor": 2
}
