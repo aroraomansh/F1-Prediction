{
 "cells": [
  {
   "cell_type": "code",
   "execution_count": 1,
   "metadata": {},
   "outputs": [],
   "source": [
    "import torch\n",
    "import torch.nn as nn\n",
    "import pandas as pd\n",
    "import torch\n",
    "import torch.nn as nn\n",
    "from sklearn.preprocessing import StandardScaler, OneHotEncoder\n",
    "import torch.nn.functional as F\n",
    "from sklearn.model_selection import train_test_split\n",
    "from torch.utils.data import DataLoader\n",
    "import torch.optim as optim\n",
    "from ANN import *"
   ]
  },
  {
   "cell_type": "code",
   "execution_count": 2,
   "metadata": {},
   "outputs": [
    {
     "name": "stdout",
     "output_type": "stream",
     "text": [
      "cpu\n"
     ]
    }
   ],
   "source": [
    "df_cleaned=pd.read_csv('Processed_DATA_PITSTRAT.csv')\n",
    "\n",
    "def preprocess(df_cleaned):\n",
    "\n",
    "    input_data = df_cleaned[['circuitId', 'raceId', 'points', 'lap','position','laps']].values\n",
    "    target_data = df_cleaned['stop'].values\n",
    "\n",
    "    scaler = StandardScaler()\n",
    "    input_data[:, 2:] = scaler.fit_transform(input_data[:, 2:])\n",
    "\n",
    "    circuit_encoded = F.one_hot(torch.tensor(input_data[:, 0],dtype=torch.long), num_classes=81)\n",
    "    race_encoded = F.one_hot(torch.tensor(input_data[:, 1],dtype=torch.long), num_classes=1133)\n",
    "    points = torch.tensor(input_data[:, 2], dtype=torch.float32).unsqueeze(1)\n",
    "    lap = torch.tensor(input_data[:, 3], dtype=torch.float32).unsqueeze(1)\n",
    "    position = torch.tensor(input_data[:, 4], dtype=torch.float32).unsqueeze(1)\n",
    "    laps = torch.tensor(input_data[:, 5], dtype=torch.float32).unsqueeze(1)\n",
    "\n",
    "\n",
    "    input_data_encoded = torch.cat([circuit_encoded, race_encoded, points, lap,position,laps], dim=1)\n",
    "    target_encoded = F.one_hot(torch.tensor(target_data,dtype=torch.long), num_classes=8)\n",
    "    return input_data_encoded,target_encoded\n",
    "\n",
    "\n",
    "input_data_encoded,target_encoded=preprocess(df_cleaned)\n",
    "X_train, X_test, y_train, y_test = train_test_split(input_data_encoded, target_encoded, test_size=0.2, random_state=42)\n",
    "train_dataset = F1Dataset(X_train, y_train)\n",
    "test_dataset = F1Dataset(X_test, y_test)\n",
    "train_loader = DataLoader(train_dataset, batch_size=32, shuffle=True)\n",
    "test_loader = DataLoader(test_dataset, batch_size=32, shuffle=False)\n",
    "best_loss = float('inf')\n",
    "circuit_id_max = 81\n",
    "race_id_max = 1133\n",
    "device = torch.device(\"cuda\" if torch.cuda.is_available() else \"cpu\")\n",
    "print(device)\n",
    "weight_decay = 1e-5\n",
    "criterion = nn.CrossEntropyLoss()\n",
    "\n"
   ]
  },
  {
   "cell_type": "code",
   "execution_count": 4,
   "metadata": {},
   "outputs": [
    {
     "name": "stderr",
     "output_type": "stream",
     "text": [
      "C:\\Users\\user\\AppData\\Local\\Temp\\ipykernel_14996\\1289532668.py:2: FutureWarning: You are using `torch.load` with `weights_only=False` (the current default value), which uses the default pickle module implicitly. It is possible to construct malicious pickle data which will execute arbitrary code during unpickling (See https://github.com/pytorch/pytorch/blob/main/SECURITY.md#untrusted-models for more details). In a future release, the default value for `weights_only` will be flipped to `True`. This limits the functions that could be executed during unpickling. Arbitrary objects will no longer be allowed to be loaded via this mode unless they are explicitly allowlisted by the user via `torch.serialization.add_safe_globals`. We recommend you start setting `weights_only=True` for any use case where you don't have full control of the loaded file. Please open an issue on GitHub for any issues related to this experimental feature.\n",
      "  state_dict=(torch.load('../Pitstrat/best_model.pth',map_location=torch.device('cpu')))\n"
     ]
    },
    {
     "data": {
      "text/plain": [
       "<All keys matched successfully>"
      ]
     },
     "execution_count": 4,
     "metadata": {},
     "output_type": "execute_result"
    }
   ],
   "source": [
    "Pitstrat_predictor_model= MLPModel(circuit_id_max=circuit_id_max, race_id_max=race_id_max,dropout_prob=0.2).to(device)\n",
    "state_dict=(torch.load('../Pitstrat/best_model.pth',map_location=torch.device('cpu')))\n",
    "Pitstrat_predictor_model.load_state_dict(state_dict)"
   ]
  },
  {
   "cell_type": "code",
   "execution_count": 8,
   "metadata": {},
   "outputs": [],
   "source": [
    "import joblib\n",
    "lr = joblib.load('../lr_model.pkl')"
   ]
  },
  {
   "cell_type": "code",
   "execution_count": 9,
   "metadata": {},
   "outputs": [],
   "source": [
    "def align_features(X_train, new_input):\n",
    "    \"\"\"\n",
    "    Align new input features with the training feature space.\n",
    "    Missing columns will be filled with 0.\n",
    "    \"\"\"\n",
    "    # Identify missing columns between the training and new input\n",
    "    missing_cols = list(set(X_train.columns) - set(new_input.columns))\n",
    "    \n",
    "    # Add missing columns (initialized with 0)\n",
    "    missing_df = pd.DataFrame(0, index=new_input.index, columns=missing_cols)\n",
    "\n",
    "    # Combine the original input with the missing columns\n",
    "    aligned_input = pd.concat([new_input, missing_df], axis=1)\n",
    "\n",
    "    # Ensure the order of columns matches the training data\n",
    "    aligned_input = aligned_input[X_train.columns]\n",
    "\n",
    "    return aligned_input"
   ]
  },
  {
   "cell_type": "code",
   "execution_count": 18,
   "metadata": {},
   "outputs": [],
   "source": [
    "df_lr=pd.read_csv('../data_v1/df_training.csv')"
   ]
  },
  {
   "cell_type": "code",
   "execution_count": 19,
   "metadata": {},
   "outputs": [],
   "source": [
    "from sklearn.model_selection import train_test_split\n",
    "X = df_lr.drop(['positionOrder'], axis=1)\n",
    "Y = df_lr['positionOrder']"
   ]
  },
  {
   "cell_type": "code",
   "execution_count": 20,
   "metadata": {},
   "outputs": [],
   "source": [
    "X_train_lr, X_test_lr, Y_train_lr, Y_test_lr = train_test_split(X, Y, test_size=0.2, random_state=42)"
   ]
  },
  {
   "cell_type": "code",
   "execution_count": 21,
   "metadata": {},
   "outputs": [
    {
     "name": "stdout",
     "output_type": "stream",
     "text": [
      "[0 0 0 0 0 0 0 0 0 0 0 0 1 0 0 0 0 0 0 0 0 0]\n",
      "The predicted winner is Driver ID: 1\n"
     ]
    }
   ],
   "source": [
    "new_race = {\n",
    "    'grid': [4, 2,1,6,5,7,11,8,13,10,12,18,3,16,15,21,22,17,20,14,9,19],\n",
    "    'laps': [57] * 22,  # Same laps for all drivers\n",
    "    'circuitId_3': [1] * 22  # Circuit ID 3 for all drivers\n",
    "}\n",
    "\n",
    "# One-hot encode driver and constructor IDs\n",
    "drivers = [8,13,9,2,5,15,17,3,10,4,22,21,1,6,7,19,11,14,16,12,18,20]\n",
    "constructors = [6,6,2,2,1,7,9,3,7,4,11,10,1,3,5,8,8,9,10,4,11,5]\n",
    "\n",
    "# Add one-hot encoded driver and constructor columns\n",
    "for driver in drivers:\n",
    "    new_race[f'driverId_{driver}'] = [1 if i == drivers.index(driver) else 0 for i in range(22)]\n",
    "\n",
    "for constructor in constructors:\n",
    "    new_race[f'constructorId_{constructor}'] = [1 if i == constructors.index(constructor) else 0 for i in range(22)]\n",
    "\n",
    "\n",
    "new_race_df = pd.DataFrame(new_race)\n",
    "\n",
    "\n",
    "aligned_input = align_features(X_train_lr, new_race_df)\n",
    "\n",
    "\n",
    "predictions = lr.predict(aligned_input)\n",
    "\n",
    "print(predictions)\n",
    "winner_index = predictions.argmax()  \n",
    "winning_driver = drivers[winner_index]\n",
    "\n",
    "print(f\"The predicted winner is Driver ID: {winning_driver}\")"
   ]
  }
 ],
 "metadata": {
  "kernelspec": {
   "display_name": "Python 3",
   "language": "python",
   "name": "python3"
  },
  "language_info": {
   "codemirror_mode": {
    "name": "ipython",
    "version": 3
   },
   "file_extension": ".py",
   "mimetype": "text/x-python",
   "name": "python",
   "nbconvert_exporter": "python",
   "pygments_lexer": "ipython3",
   "version": "3.12.5"
  }
 },
 "nbformat": 4,
 "nbformat_minor": 2
}
